{
 "cells": [
  {
   "cell_type": "code",
   "execution_count": 1,
   "id": "9578da96",
   "metadata": {},
   "outputs": [],
   "source": [
    "def sparse_search(data, search_val):\n",
    "  print(\"Data: \" + str(data))\n",
    "  print(\"Search Value: \" + str(search_val))\n",
    "  first = 0\n",
    "  last = len(data) - 1\n",
    "\n",
    "  while first <= last:\n",
    "    mid = (first + last)//2\n",
    "    if not data[mid]:\n",
    "      left = mid -1\n",
    "      right = mid + 1\n",
    "      while True:\n",
    "        if left < first and right > last:\n",
    "          print('{} is not in the dataset'.format(search_val))\n",
    "          return\n",
    "        elif right <= last and data[right]:\n",
    "          mid = right\n",
    "          break\n",
    "        elif left >= first and data[left]:\n",
    "          mid = left\n",
    "          break\n",
    "        right += 1\n",
    "        left -= 1\n",
    "    \n",
    "    if data[mid] == search_val:\n",
    "      print('{} found at position {}'.format(search_val, mid))\n",
    "      return\n",
    "\n",
    "    if search_val < data[mid]:\n",
    "      last = mid - 1\n",
    "\n",
    "    if search_val >data[mid]:\n",
    "      first = mid + 1\n",
    "  print('{} is not in the dataset'.format(search_val))"
   ]
  },
  {
   "cell_type": "code",
   "execution_count": 3,
   "id": "7986fada",
   "metadata": {},
   "outputs": [
    {
     "name": "stdout",
     "output_type": "stream",
     "text": [
      "Data: ['Alex', '', '', '', '', 'Devan', '', '', 'Elise', '', '', '', 'Gary', '', '', 'Mimi', '', '', 'Parth', '', '', '', 'Zachary']\n",
      "Search Value: Parth\n",
      "Parth found at position 18\n"
     ]
    }
   ],
   "source": [
    "sparse_search([\"Alex\", \"\", \"\", \"\", \"\", \"Devan\", \"\", \"\", \"Elise\", \"\", \"\", \"\", \"Gary\", \"\", \"\", \"Mimi\", \"\", \"\", \"Parth\", \"\", \"\", \"\", \"Zachary\"], \"Parth\")"
   ]
  },
  {
   "cell_type": "code",
   "execution_count": 4,
   "id": "78197d14",
   "metadata": {},
   "outputs": [
    {
     "name": "stdout",
     "output_type": "stream",
     "text": [
      "Data: ['A', '', '', '', 'B', '', '', '', 'C']\n",
      "Search Value: D\n",
      "D is not in the dataset\n"
     ]
    }
   ],
   "source": [
    "sparse_search([\"A\", \"\", \"\", \"\", \"B\", \"\", \"\", \"\", \"C\"], \"D\")"
   ]
  },
  {
   "cell_type": "code",
   "execution_count": 5,
   "id": "32ec0631",
   "metadata": {},
   "outputs": [
    {
     "name": "stdout",
     "output_type": "stream",
     "text": [
      "Data: ['A', '', '', '', 'B', '', '', '', 'C', '', '', 'D']\n",
      "Search Value: C\n",
      "C found at position 8\n"
     ]
    }
   ],
   "source": [
    "sparse_search([\"A\", \"\", \"\", \"\", \"B\", \"\", \"\", \"\", \"C\", \"\", \"\", \"D\"], \"C\")"
   ]
  },
  {
   "cell_type": "code",
   "execution_count": null,
   "id": "3f18cfb8",
   "metadata": {},
   "outputs": [],
   "source": []
  }
 ],
 "metadata": {
  "kernelspec": {
   "display_name": "Python 3",
   "language": "python",
   "name": "python3"
  },
  "language_info": {
   "codemirror_mode": {
    "name": "ipython",
    "version": 3
   },
   "file_extension": ".py",
   "mimetype": "text/x-python",
   "name": "python",
   "nbconvert_exporter": "python",
   "pygments_lexer": "ipython3",
   "version": "3.8.8"
  }
 },
 "nbformat": 4,
 "nbformat_minor": 5
}
